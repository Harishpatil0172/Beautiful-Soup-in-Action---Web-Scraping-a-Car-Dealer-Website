{
 "cells": [
  {
   "cell_type": "markdown",
   "metadata": {},
   "source": [
    "### Imports"
   ]
  },
  {
   "cell_type": "code",
   "execution_count": 1,
   "metadata": {},
   "outputs": [],
   "source": [
    "from bs4 import BeautifulSoup\n",
    "import requests\n",
    "import pandas as pd "
   ]
  },
  {
   "cell_type": "markdown",
   "metadata": {},
   "source": [
    "### HTTP Request"
   ]
  },
  {
   "cell_type": "markdown",
   "metadata": {},
   "source": [
    "#### store website in variable"
   ]
  },
  {
   "cell_type": "code",
   "execution_count": 2,
   "metadata": {},
   "outputs": [],
   "source": [
    "website = 'https://www.cars.com/shopping/results/?stock_type=cpo&makes%5B%5D=mercedes_benz&models%5B%5D=&list_price_max=&maximum_distance=20&zip='"
   ]
  },
  {
   "cell_type": "markdown",
   "metadata": {},
   "source": [
    "#### Get Request"
   ]
  },
  {
   "cell_type": "code",
   "execution_count": 3,
   "metadata": {},
   "outputs": [],
   "source": [
    "response = requests.get(website)"
   ]
  },
  {
   "cell_type": "markdown",
   "metadata": {},
   "source": [
    "#### Status Code"
   ]
  },
  {
   "cell_type": "code",
   "execution_count": 4,
   "metadata": {},
   "outputs": [
    {
     "data": {
      "text/plain": [
       "200"
      ]
     },
     "execution_count": 4,
     "metadata": {},
     "output_type": "execute_result"
    }
   ],
   "source": [
    "response.status_code"
   ]
  },
  {
   "cell_type": "markdown",
   "metadata": {},
   "source": [
    "### Soup Object"
   ]
  },
  {
   "cell_type": "code",
   "execution_count": 5,
   "metadata": {},
   "outputs": [],
   "source": [
    "soup = BeautifulSoup(response.content, 'html.parser')"
   ]
  },
  {
   "cell_type": "markdown",
   "metadata": {},
   "source": [
    "### Results"
   ]
  },
  {
   "cell_type": "code",
   "execution_count": 6,
   "metadata": {},
   "outputs": [],
   "source": [
    "results = soup.find_all('div', {'class' : 'vehicle-card'})"
   ]
  },
  {
   "cell_type": "code",
   "execution_count": 7,
   "metadata": {},
   "outputs": [
    {
     "data": {
      "text/plain": [
       "20"
      ]
     },
     "execution_count": 7,
     "metadata": {},
     "output_type": "execute_result"
    }
   ],
   "source": [
    "len(results)"
   ]
  },
  {
   "cell_type": "markdown",
   "metadata": {},
   "source": [
    "### Target necessary data"
   ]
  },
  {
   "cell_type": "code",
   "execution_count": 8,
   "metadata": {},
   "outputs": [],
   "source": [
    "# Name\n",
    "# Mileage\n",
    "# Dealer Name\n",
    "# Rating\n",
    "# Rating Count\n",
    "# Price"
   ]
  },
  {
   "cell_type": "markdown",
   "metadata": {},
   "source": [
    "#### Name"
   ]
  },
  {
   "cell_type": "code",
   "execution_count": 9,
   "metadata": {},
   "outputs": [
    {
     "data": {
      "text/plain": [
       "'2019 Mercedes-Benz GLC 300 Base'"
      ]
     },
     "execution_count": 9,
     "metadata": {},
     "output_type": "execute_result"
    }
   ],
   "source": [
    "results[0].find('h2').get_text()"
   ]
  },
  {
   "cell_type": "markdown",
   "metadata": {},
   "source": [
    "#### Mileage"
   ]
  },
  {
   "cell_type": "code",
   "execution_count": 10,
   "metadata": {},
   "outputs": [
    {
     "data": {
      "text/plain": [
       "'13,009 mi.'"
      ]
     },
     "execution_count": 10,
     "metadata": {},
     "output_type": "execute_result"
    }
   ],
   "source": [
    "results[0].find('div', {'class':'mileage'}).get_text()"
   ]
  },
  {
   "cell_type": "markdown",
   "metadata": {},
   "source": [
    "#### Dealer Name"
   ]
  },
  {
   "cell_type": "code",
   "execution_count": 11,
   "metadata": {},
   "outputs": [
    {
     "data": {
      "text/plain": [
       "'Fletcher Jones Motorcars'"
      ]
     },
     "execution_count": 11,
     "metadata": {},
     "output_type": "execute_result"
    }
   ],
   "source": [
    "results[0].find('div', {'class':'dealer-name'}).get_text().strip()"
   ]
  },
  {
   "cell_type": "markdown",
   "metadata": {},
   "source": [
    "#### Rating"
   ]
  },
  {
   "cell_type": "code",
   "execution_count": 12,
   "metadata": {},
   "outputs": [
    {
     "data": {
      "text/plain": [
       "'4.8'"
      ]
     },
     "execution_count": 12,
     "metadata": {},
     "output_type": "execute_result"
    }
   ],
   "source": [
    "results[0].find('span', {'class':'sds-rating__count'}).get_text()"
   ]
  },
  {
   "cell_type": "markdown",
   "metadata": {},
   "source": [
    "#### Review Count"
   ]
  },
  {
   "cell_type": "code",
   "execution_count": 13,
   "metadata": {},
   "outputs": [
    {
     "data": {
      "text/plain": [
       "'(4,990 reviews)'"
      ]
     },
     "execution_count": 13,
     "metadata": {},
     "output_type": "execute_result"
    }
   ],
   "source": [
    "results[0].find('span', {'class':'sds-rating__link'}).get_text()"
   ]
  },
  {
   "cell_type": "markdown",
   "metadata": {},
   "source": [
    "#### Price"
   ]
  },
  {
   "cell_type": "code",
   "execution_count": 14,
   "metadata": {},
   "outputs": [
    {
     "data": {
      "text/plain": [
       "'$39,891'"
      ]
     },
     "execution_count": 14,
     "metadata": {},
     "output_type": "execute_result"
    }
   ],
   "source": [
    "results[0].find('span', {'class':'primary-price'}).get_text()"
   ]
  },
  {
   "cell_type": "markdown",
   "metadata": {},
   "source": [
    "### Put everything together inside a For-Loop"
   ]
  },
  {
   "cell_type": "code",
   "execution_count": 27,
   "metadata": {},
   "outputs": [],
   "source": [
    "name = []\n",
    "mileage = []\n",
    "dealer_name = []\n",
    "rating = []\n",
    "review_count = []\n",
    "price = []\n",
    "\n",
    "for result in results:\n",
    "    \n",
    "    # name\n",
    "    try:\n",
    "        name.append(result.find('h2').get_text()) \n",
    "    except:\n",
    "        name.append('n/a')\n",
    "    \n",
    "    # mileage\n",
    "    try:\n",
    "        mileage.append(result.find('div', {'class':'mileage'}).get_text())\n",
    "    except:\n",
    "        mileage.append('n/a')\n",
    "    \n",
    "    # dealer_name\n",
    "    try:\n",
    "        dealer_name.append(result.find('div', {'class':'dealer-name'}).get_text().strip())\n",
    "    except:\n",
    "        dealer_name.append('n/a')\n",
    "        \n",
    "    # rating\n",
    "    try:\n",
    "        rating.append(result.find('span', {'class':'sds-rating__count'}).get_text())\n",
    "    except:\n",
    "        rating.append('n/a')\n",
    "    \n",
    "    # review_count\n",
    "    try:\n",
    "        review_count.append(result.find('span', {'class':'sds-rating__link'}).get_text())\n",
    "    except:\n",
    "        review_count.append('n/a')\n",
    "    \n",
    "    #price \n",
    "    try:\n",
    "        price.append(result.find('span', {'class':'primary-price'}).get_text())\n",
    "    except:\n",
    "        price.append('n/a')"
   ]
  },
  {
   "cell_type": "markdown",
   "metadata": {},
   "source": [
    "### Create Pandas Dataframe"
   ]
  },
  {
   "cell_type": "code",
   "execution_count": 28,
   "metadata": {},
   "outputs": [],
   "source": [
    "# dictionary\n",
    "car_dealer = pd.DataFrame({'Name': name, 'Mileage':mileage, 'Dealer Name':dealer_name,\n",
    "                                'Rating': rating, 'Review Count': review_count, 'Price': price})"
   ]
  },
  {
   "cell_type": "code",
   "execution_count": 29,
   "metadata": {},
   "outputs": [
    {
     "data": {
      "text/html": [
       "<div>\n",
       "<style scoped>\n",
       "    .dataframe tbody tr th:only-of-type {\n",
       "        vertical-align: middle;\n",
       "    }\n",
       "\n",
       "    .dataframe tbody tr th {\n",
       "        vertical-align: top;\n",
       "    }\n",
       "\n",
       "    .dataframe thead th {\n",
       "        text-align: right;\n",
       "    }\n",
       "</style>\n",
       "<table border=\"1\" class=\"dataframe\">\n",
       "  <thead>\n",
       "    <tr style=\"text-align: right;\">\n",
       "      <th></th>\n",
       "      <th>Name</th>\n",
       "      <th>Mileage</th>\n",
       "      <th>Dealer Name</th>\n",
       "      <th>Rating</th>\n",
       "      <th>Review Count</th>\n",
       "      <th>Price</th>\n",
       "    </tr>\n",
       "  </thead>\n",
       "  <tbody>\n",
       "    <tr>\n",
       "      <th>0</th>\n",
       "      <td>2021 Mercedes-Benz E-Class E 350 4MATIC</td>\n",
       "      <td>7,998 mi.</td>\n",
       "      <td>Mercedes-Benz of Union</td>\n",
       "      <td>4.9</td>\n",
       "      <td>(859 reviews)</td>\n",
       "      <td>$68,995</td>\n",
       "    </tr>\n",
       "    <tr>\n",
       "      <th>1</th>\n",
       "      <td>2018 Mercedes-Benz AMG GLE 43 Coupe 4MATIC</td>\n",
       "      <td>30,122 mi.</td>\n",
       "      <td>Ray Catena Mercedes Benz Freehold</td>\n",
       "      <td>4.7</td>\n",
       "      <td>(729 reviews)</td>\n",
       "      <td>$70,900</td>\n",
       "    </tr>\n",
       "    <tr>\n",
       "      <th>2</th>\n",
       "      <td>2020 Mercedes-Benz GLE 350 Base 4MATIC</td>\n",
       "      <td>22,673 mi.</td>\n",
       "      <td>Mercedes-Benz of Sugar Land</td>\n",
       "      <td>3.5</td>\n",
       "      <td>(55 reviews)</td>\n",
       "      <td>$64,989</td>\n",
       "    </tr>\n",
       "    <tr>\n",
       "      <th>3</th>\n",
       "      <td>2020 Mercedes-Benz C-Class C 300</td>\n",
       "      <td>15,356 mi.</td>\n",
       "      <td>Mercedes-Benz of Buckhead</td>\n",
       "      <td>4.7</td>\n",
       "      <td>(915 reviews)</td>\n",
       "      <td>$62,000</td>\n",
       "    </tr>\n",
       "    <tr>\n",
       "      <th>4</th>\n",
       "      <td>2018 Mercedes-Benz GLA 250 Base</td>\n",
       "      <td>17,320 mi.</td>\n",
       "      <td>Mercedes-Benz of Orlando</td>\n",
       "      <td>4.7</td>\n",
       "      <td>(658 reviews)</td>\n",
       "      <td>$34,881</td>\n",
       "    </tr>\n",
       "    <tr>\n",
       "      <th>5</th>\n",
       "      <td>2018 Mercedes-Benz GLE 350 4MATIC</td>\n",
       "      <td>21,212 mi.</td>\n",
       "      <td>Mercedes-Benz of Hanover</td>\n",
       "      <td>4.6</td>\n",
       "      <td>(363 reviews)</td>\n",
       "      <td>$47,514</td>\n",
       "    </tr>\n",
       "    <tr>\n",
       "      <th>6</th>\n",
       "      <td>2018 Mercedes-Benz C-Class C 300 4MATIC</td>\n",
       "      <td>36,889 mi.</td>\n",
       "      <td>Mercedes-Benz of Westwood</td>\n",
       "      <td>4.6</td>\n",
       "      <td>(422 reviews)</td>\n",
       "      <td>$35,016</td>\n",
       "    </tr>\n",
       "    <tr>\n",
       "      <th>7</th>\n",
       "      <td>2020 Mercedes-Benz E-Class E 450 4MATIC</td>\n",
       "      <td>28,556 mi.</td>\n",
       "      <td>Mercedes-Benz of Plano</td>\n",
       "      <td>4.4</td>\n",
       "      <td>(1,033 reviews)</td>\n",
       "      <td>$61,077</td>\n",
       "    </tr>\n",
       "    <tr>\n",
       "      <th>8</th>\n",
       "      <td>2018 Mercedes-Benz GLE 350 4MATIC</td>\n",
       "      <td>34,337 mi.</td>\n",
       "      <td>Mercedes-Benz of Westwood</td>\n",
       "      <td>4.6</td>\n",
       "      <td>(422 reviews)</td>\n",
       "      <td>$46,213</td>\n",
       "    </tr>\n",
       "    <tr>\n",
       "      <th>9</th>\n",
       "      <td>2018 Mercedes-Benz GLE 350 Base 4MATIC</td>\n",
       "      <td>19,639 mi.</td>\n",
       "      <td>Euro Motorcars Devon</td>\n",
       "      <td>4.6</td>\n",
       "      <td>(297 reviews)</td>\n",
       "      <td>$49,998</td>\n",
       "    </tr>\n",
       "    <tr>\n",
       "      <th>10</th>\n",
       "      <td>2017 Mercedes-Benz GLS 450 Base 4MATIC</td>\n",
       "      <td>46,532 mi.</td>\n",
       "      <td>Mercedes-Benz of Nanuet</td>\n",
       "      <td>4.9</td>\n",
       "      <td>(233 reviews)</td>\n",
       "      <td>$49,998</td>\n",
       "    </tr>\n",
       "    <tr>\n",
       "      <th>11</th>\n",
       "      <td>2018 Mercedes-Benz GLE 350 Base 4MATIC</td>\n",
       "      <td>61,365 mi.</td>\n",
       "      <td>Mercedes-Benz of Nashville</td>\n",
       "      <td>4.7</td>\n",
       "      <td>(808 reviews)</td>\n",
       "      <td>$39,998</td>\n",
       "    </tr>\n",
       "    <tr>\n",
       "      <th>12</th>\n",
       "      <td>2018 Mercedes-Benz GLE 350 Base 4MATIC</td>\n",
       "      <td>30,011 mi.</td>\n",
       "      <td>Euro Motorcars Inc</td>\n",
       "      <td>4.6</td>\n",
       "      <td>(560 reviews)</td>\n",
       "      <td>$47,881</td>\n",
       "    </tr>\n",
       "    <tr>\n",
       "      <th>13</th>\n",
       "      <td>2019 Mercedes-Benz GLS 450 Base 4MATIC</td>\n",
       "      <td>36,642 mi.</td>\n",
       "      <td>Mercedes-Benz of Ontario</td>\n",
       "      <td>4.9</td>\n",
       "      <td>(1,906 reviews)</td>\n",
       "      <td>$65,988</td>\n",
       "    </tr>\n",
       "    <tr>\n",
       "      <th>14</th>\n",
       "      <td>2019 Mercedes-Benz C-Class C 300 4MATIC</td>\n",
       "      <td>30,638 mi.</td>\n",
       "      <td>Mercedes-Benz of Hanover</td>\n",
       "      <td>4.6</td>\n",
       "      <td>(363 reviews)</td>\n",
       "      <td>$39,312</td>\n",
       "    </tr>\n",
       "    <tr>\n",
       "      <th>15</th>\n",
       "      <td>2018 Mercedes-Benz GLA 250 Base</td>\n",
       "      <td>32,545 mi.</td>\n",
       "      <td>Mercedes-Benz of North Scottsdale</td>\n",
       "      <td>4.9</td>\n",
       "      <td>(1,074 reviews)</td>\n",
       "      <td>$33,988</td>\n",
       "    </tr>\n",
       "    <tr>\n",
       "      <th>16</th>\n",
       "      <td>2020 Mercedes-Benz GLE 350 Base 4MATIC</td>\n",
       "      <td>21,348 mi.</td>\n",
       "      <td>Mercedes-Benz Of Daytona Beach</td>\n",
       "      <td>4.9</td>\n",
       "      <td>(1,708 reviews)</td>\n",
       "      <td>$68,989</td>\n",
       "    </tr>\n",
       "    <tr>\n",
       "      <th>17</th>\n",
       "      <td>2019 Mercedes-Benz GLA 250 Base 4MATIC</td>\n",
       "      <td>30,319 mi.</td>\n",
       "      <td>Mercedes-Benz of Pleasanton</td>\n",
       "      <td>2.5</td>\n",
       "      <td>(50 reviews)</td>\n",
       "      <td>$32,525</td>\n",
       "    </tr>\n",
       "    <tr>\n",
       "      <th>18</th>\n",
       "      <td>2019 Mercedes-Benz AMG GLE 43 Base 4MATIC</td>\n",
       "      <td>29,193 mi.</td>\n",
       "      <td>Mercedes-Benz of Laguna Niguel</td>\n",
       "      <td>4.8</td>\n",
       "      <td>(1,515 reviews)</td>\n",
       "      <td>$72,188</td>\n",
       "    </tr>\n",
       "    <tr>\n",
       "      <th>19</th>\n",
       "      <td>2020 Mercedes-Benz GLA 250 Base</td>\n",
       "      <td>18,586 mi.</td>\n",
       "      <td>Mercedes-Benz of Plano</td>\n",
       "      <td>4.4</td>\n",
       "      <td>(1,033 reviews)</td>\n",
       "      <td>$34,000</td>\n",
       "    </tr>\n",
       "  </tbody>\n",
       "</table>\n",
       "</div>"
      ],
      "text/plain": [
       "                                          Name     Mileage  \\\n",
       "0      2021 Mercedes-Benz E-Class E 350 4MATIC   7,998 mi.   \n",
       "1   2018 Mercedes-Benz AMG GLE 43 Coupe 4MATIC  30,122 mi.   \n",
       "2       2020 Mercedes-Benz GLE 350 Base 4MATIC  22,673 mi.   \n",
       "3             2020 Mercedes-Benz C-Class C 300  15,356 mi.   \n",
       "4              2018 Mercedes-Benz GLA 250 Base  17,320 mi.   \n",
       "5            2018 Mercedes-Benz GLE 350 4MATIC  21,212 mi.   \n",
       "6      2018 Mercedes-Benz C-Class C 300 4MATIC  36,889 mi.   \n",
       "7      2020 Mercedes-Benz E-Class E 450 4MATIC  28,556 mi.   \n",
       "8            2018 Mercedes-Benz GLE 350 4MATIC  34,337 mi.   \n",
       "9       2018 Mercedes-Benz GLE 350 Base 4MATIC  19,639 mi.   \n",
       "10      2017 Mercedes-Benz GLS 450 Base 4MATIC  46,532 mi.   \n",
       "11      2018 Mercedes-Benz GLE 350 Base 4MATIC  61,365 mi.   \n",
       "12      2018 Mercedes-Benz GLE 350 Base 4MATIC  30,011 mi.   \n",
       "13      2019 Mercedes-Benz GLS 450 Base 4MATIC  36,642 mi.   \n",
       "14     2019 Mercedes-Benz C-Class C 300 4MATIC  30,638 mi.   \n",
       "15             2018 Mercedes-Benz GLA 250 Base  32,545 mi.   \n",
       "16      2020 Mercedes-Benz GLE 350 Base 4MATIC  21,348 mi.   \n",
       "17      2019 Mercedes-Benz GLA 250 Base 4MATIC  30,319 mi.   \n",
       "18   2019 Mercedes-Benz AMG GLE 43 Base 4MATIC  29,193 mi.   \n",
       "19             2020 Mercedes-Benz GLA 250 Base  18,586 mi.   \n",
       "\n",
       "                          Dealer Name Rating     Review Count    Price  \n",
       "0              Mercedes-Benz of Union    4.9    (859 reviews)  $68,995  \n",
       "1   Ray Catena Mercedes Benz Freehold    4.7    (729 reviews)  $70,900  \n",
       "2         Mercedes-Benz of Sugar Land    3.5     (55 reviews)  $64,989  \n",
       "3           Mercedes-Benz of Buckhead    4.7    (915 reviews)  $62,000  \n",
       "4            Mercedes-Benz of Orlando    4.7    (658 reviews)  $34,881  \n",
       "5            Mercedes-Benz of Hanover    4.6    (363 reviews)  $47,514  \n",
       "6           Mercedes-Benz of Westwood    4.6    (422 reviews)  $35,016  \n",
       "7              Mercedes-Benz of Plano    4.4  (1,033 reviews)  $61,077  \n",
       "8           Mercedes-Benz of Westwood    4.6    (422 reviews)  $46,213  \n",
       "9                Euro Motorcars Devon    4.6    (297 reviews)  $49,998  \n",
       "10            Mercedes-Benz of Nanuet    4.9    (233 reviews)  $49,998  \n",
       "11         Mercedes-Benz of Nashville    4.7    (808 reviews)  $39,998  \n",
       "12                 Euro Motorcars Inc    4.6    (560 reviews)  $47,881  \n",
       "13           Mercedes-Benz of Ontario    4.9  (1,906 reviews)  $65,988  \n",
       "14           Mercedes-Benz of Hanover    4.6    (363 reviews)  $39,312  \n",
       "15  Mercedes-Benz of North Scottsdale    4.9  (1,074 reviews)  $33,988  \n",
       "16     Mercedes-Benz Of Daytona Beach    4.9  (1,708 reviews)  $68,989  \n",
       "17        Mercedes-Benz of Pleasanton    2.5     (50 reviews)  $32,525  \n",
       "18     Mercedes-Benz of Laguna Niguel    4.8  (1,515 reviews)  $72,188  \n",
       "19             Mercedes-Benz of Plano    4.4  (1,033 reviews)  $34,000  "
      ]
     },
     "execution_count": 29,
     "metadata": {},
     "output_type": "execute_result"
    }
   ],
   "source": [
    "car_dealer"
   ]
  },
  {
   "cell_type": "markdown",
   "metadata": {},
   "source": [
    "#### Data Cleaning"
   ]
  },
  {
   "cell_type": "code",
   "execution_count": 30,
   "metadata": {},
   "outputs": [],
   "source": [
    "car_dealer['Review Count'] = car_dealer['Review Count'].apply(lambda x: x.strip('reviews)').strip('('))"
   ]
  },
  {
   "cell_type": "code",
   "execution_count": 31,
   "metadata": {},
   "outputs": [
    {
     "data": {
      "text/html": [
       "<div>\n",
       "<style scoped>\n",
       "    .dataframe tbody tr th:only-of-type {\n",
       "        vertical-align: middle;\n",
       "    }\n",
       "\n",
       "    .dataframe tbody tr th {\n",
       "        vertical-align: top;\n",
       "    }\n",
       "\n",
       "    .dataframe thead th {\n",
       "        text-align: right;\n",
       "    }\n",
       "</style>\n",
       "<table border=\"1\" class=\"dataframe\">\n",
       "  <thead>\n",
       "    <tr style=\"text-align: right;\">\n",
       "      <th></th>\n",
       "      <th>Name</th>\n",
       "      <th>Mileage</th>\n",
       "      <th>Dealer Name</th>\n",
       "      <th>Rating</th>\n",
       "      <th>Review Count</th>\n",
       "      <th>Price</th>\n",
       "    </tr>\n",
       "  </thead>\n",
       "  <tbody>\n",
       "    <tr>\n",
       "      <th>0</th>\n",
       "      <td>2021 Mercedes-Benz E-Class E 350 4MATIC</td>\n",
       "      <td>7,998 mi.</td>\n",
       "      <td>Mercedes-Benz of Union</td>\n",
       "      <td>4.9</td>\n",
       "      <td>859</td>\n",
       "      <td>$68,995</td>\n",
       "    </tr>\n",
       "    <tr>\n",
       "      <th>1</th>\n",
       "      <td>2018 Mercedes-Benz AMG GLE 43 Coupe 4MATIC</td>\n",
       "      <td>30,122 mi.</td>\n",
       "      <td>Ray Catena Mercedes Benz Freehold</td>\n",
       "      <td>4.7</td>\n",
       "      <td>729</td>\n",
       "      <td>$70,900</td>\n",
       "    </tr>\n",
       "    <tr>\n",
       "      <th>2</th>\n",
       "      <td>2020 Mercedes-Benz GLE 350 Base 4MATIC</td>\n",
       "      <td>22,673 mi.</td>\n",
       "      <td>Mercedes-Benz of Sugar Land</td>\n",
       "      <td>3.5</td>\n",
       "      <td>55</td>\n",
       "      <td>$64,989</td>\n",
       "    </tr>\n",
       "    <tr>\n",
       "      <th>3</th>\n",
       "      <td>2020 Mercedes-Benz C-Class C 300</td>\n",
       "      <td>15,356 mi.</td>\n",
       "      <td>Mercedes-Benz of Buckhead</td>\n",
       "      <td>4.7</td>\n",
       "      <td>915</td>\n",
       "      <td>$62,000</td>\n",
       "    </tr>\n",
       "    <tr>\n",
       "      <th>4</th>\n",
       "      <td>2018 Mercedes-Benz GLA 250 Base</td>\n",
       "      <td>17,320 mi.</td>\n",
       "      <td>Mercedes-Benz of Orlando</td>\n",
       "      <td>4.7</td>\n",
       "      <td>658</td>\n",
       "      <td>$34,881</td>\n",
       "    </tr>\n",
       "    <tr>\n",
       "      <th>5</th>\n",
       "      <td>2018 Mercedes-Benz GLE 350 4MATIC</td>\n",
       "      <td>21,212 mi.</td>\n",
       "      <td>Mercedes-Benz of Hanover</td>\n",
       "      <td>4.6</td>\n",
       "      <td>363</td>\n",
       "      <td>$47,514</td>\n",
       "    </tr>\n",
       "    <tr>\n",
       "      <th>6</th>\n",
       "      <td>2018 Mercedes-Benz C-Class C 300 4MATIC</td>\n",
       "      <td>36,889 mi.</td>\n",
       "      <td>Mercedes-Benz of Westwood</td>\n",
       "      <td>4.6</td>\n",
       "      <td>422</td>\n",
       "      <td>$35,016</td>\n",
       "    </tr>\n",
       "    <tr>\n",
       "      <th>7</th>\n",
       "      <td>2020 Mercedes-Benz E-Class E 450 4MATIC</td>\n",
       "      <td>28,556 mi.</td>\n",
       "      <td>Mercedes-Benz of Plano</td>\n",
       "      <td>4.4</td>\n",
       "      <td>1,033</td>\n",
       "      <td>$61,077</td>\n",
       "    </tr>\n",
       "    <tr>\n",
       "      <th>8</th>\n",
       "      <td>2018 Mercedes-Benz GLE 350 4MATIC</td>\n",
       "      <td>34,337 mi.</td>\n",
       "      <td>Mercedes-Benz of Westwood</td>\n",
       "      <td>4.6</td>\n",
       "      <td>422</td>\n",
       "      <td>$46,213</td>\n",
       "    </tr>\n",
       "    <tr>\n",
       "      <th>9</th>\n",
       "      <td>2018 Mercedes-Benz GLE 350 Base 4MATIC</td>\n",
       "      <td>19,639 mi.</td>\n",
       "      <td>Euro Motorcars Devon</td>\n",
       "      <td>4.6</td>\n",
       "      <td>297</td>\n",
       "      <td>$49,998</td>\n",
       "    </tr>\n",
       "    <tr>\n",
       "      <th>10</th>\n",
       "      <td>2017 Mercedes-Benz GLS 450 Base 4MATIC</td>\n",
       "      <td>46,532 mi.</td>\n",
       "      <td>Mercedes-Benz of Nanuet</td>\n",
       "      <td>4.9</td>\n",
       "      <td>233</td>\n",
       "      <td>$49,998</td>\n",
       "    </tr>\n",
       "    <tr>\n",
       "      <th>11</th>\n",
       "      <td>2018 Mercedes-Benz GLE 350 Base 4MATIC</td>\n",
       "      <td>61,365 mi.</td>\n",
       "      <td>Mercedes-Benz of Nashville</td>\n",
       "      <td>4.7</td>\n",
       "      <td>808</td>\n",
       "      <td>$39,998</td>\n",
       "    </tr>\n",
       "    <tr>\n",
       "      <th>12</th>\n",
       "      <td>2018 Mercedes-Benz GLE 350 Base 4MATIC</td>\n",
       "      <td>30,011 mi.</td>\n",
       "      <td>Euro Motorcars Inc</td>\n",
       "      <td>4.6</td>\n",
       "      <td>560</td>\n",
       "      <td>$47,881</td>\n",
       "    </tr>\n",
       "    <tr>\n",
       "      <th>13</th>\n",
       "      <td>2019 Mercedes-Benz GLS 450 Base 4MATIC</td>\n",
       "      <td>36,642 mi.</td>\n",
       "      <td>Mercedes-Benz of Ontario</td>\n",
       "      <td>4.9</td>\n",
       "      <td>1,906</td>\n",
       "      <td>$65,988</td>\n",
       "    </tr>\n",
       "    <tr>\n",
       "      <th>14</th>\n",
       "      <td>2019 Mercedes-Benz C-Class C 300 4MATIC</td>\n",
       "      <td>30,638 mi.</td>\n",
       "      <td>Mercedes-Benz of Hanover</td>\n",
       "      <td>4.6</td>\n",
       "      <td>363</td>\n",
       "      <td>$39,312</td>\n",
       "    </tr>\n",
       "    <tr>\n",
       "      <th>15</th>\n",
       "      <td>2018 Mercedes-Benz GLA 250 Base</td>\n",
       "      <td>32,545 mi.</td>\n",
       "      <td>Mercedes-Benz of North Scottsdale</td>\n",
       "      <td>4.9</td>\n",
       "      <td>1,074</td>\n",
       "      <td>$33,988</td>\n",
       "    </tr>\n",
       "    <tr>\n",
       "      <th>16</th>\n",
       "      <td>2020 Mercedes-Benz GLE 350 Base 4MATIC</td>\n",
       "      <td>21,348 mi.</td>\n",
       "      <td>Mercedes-Benz Of Daytona Beach</td>\n",
       "      <td>4.9</td>\n",
       "      <td>1,708</td>\n",
       "      <td>$68,989</td>\n",
       "    </tr>\n",
       "    <tr>\n",
       "      <th>17</th>\n",
       "      <td>2019 Mercedes-Benz GLA 250 Base 4MATIC</td>\n",
       "      <td>30,319 mi.</td>\n",
       "      <td>Mercedes-Benz of Pleasanton</td>\n",
       "      <td>2.5</td>\n",
       "      <td>50</td>\n",
       "      <td>$32,525</td>\n",
       "    </tr>\n",
       "    <tr>\n",
       "      <th>18</th>\n",
       "      <td>2019 Mercedes-Benz AMG GLE 43 Base 4MATIC</td>\n",
       "      <td>29,193 mi.</td>\n",
       "      <td>Mercedes-Benz of Laguna Niguel</td>\n",
       "      <td>4.8</td>\n",
       "      <td>1,515</td>\n",
       "      <td>$72,188</td>\n",
       "    </tr>\n",
       "    <tr>\n",
       "      <th>19</th>\n",
       "      <td>2020 Mercedes-Benz GLA 250 Base</td>\n",
       "      <td>18,586 mi.</td>\n",
       "      <td>Mercedes-Benz of Plano</td>\n",
       "      <td>4.4</td>\n",
       "      <td>1,033</td>\n",
       "      <td>$34,000</td>\n",
       "    </tr>\n",
       "  </tbody>\n",
       "</table>\n",
       "</div>"
      ],
      "text/plain": [
       "                                          Name     Mileage  \\\n",
       "0      2021 Mercedes-Benz E-Class E 350 4MATIC   7,998 mi.   \n",
       "1   2018 Mercedes-Benz AMG GLE 43 Coupe 4MATIC  30,122 mi.   \n",
       "2       2020 Mercedes-Benz GLE 350 Base 4MATIC  22,673 mi.   \n",
       "3             2020 Mercedes-Benz C-Class C 300  15,356 mi.   \n",
       "4              2018 Mercedes-Benz GLA 250 Base  17,320 mi.   \n",
       "5            2018 Mercedes-Benz GLE 350 4MATIC  21,212 mi.   \n",
       "6      2018 Mercedes-Benz C-Class C 300 4MATIC  36,889 mi.   \n",
       "7      2020 Mercedes-Benz E-Class E 450 4MATIC  28,556 mi.   \n",
       "8            2018 Mercedes-Benz GLE 350 4MATIC  34,337 mi.   \n",
       "9       2018 Mercedes-Benz GLE 350 Base 4MATIC  19,639 mi.   \n",
       "10      2017 Mercedes-Benz GLS 450 Base 4MATIC  46,532 mi.   \n",
       "11      2018 Mercedes-Benz GLE 350 Base 4MATIC  61,365 mi.   \n",
       "12      2018 Mercedes-Benz GLE 350 Base 4MATIC  30,011 mi.   \n",
       "13      2019 Mercedes-Benz GLS 450 Base 4MATIC  36,642 mi.   \n",
       "14     2019 Mercedes-Benz C-Class C 300 4MATIC  30,638 mi.   \n",
       "15             2018 Mercedes-Benz GLA 250 Base  32,545 mi.   \n",
       "16      2020 Mercedes-Benz GLE 350 Base 4MATIC  21,348 mi.   \n",
       "17      2019 Mercedes-Benz GLA 250 Base 4MATIC  30,319 mi.   \n",
       "18   2019 Mercedes-Benz AMG GLE 43 Base 4MATIC  29,193 mi.   \n",
       "19             2020 Mercedes-Benz GLA 250 Base  18,586 mi.   \n",
       "\n",
       "                          Dealer Name Rating Review Count    Price  \n",
       "0              Mercedes-Benz of Union    4.9         859   $68,995  \n",
       "1   Ray Catena Mercedes Benz Freehold    4.7         729   $70,900  \n",
       "2         Mercedes-Benz of Sugar Land    3.5          55   $64,989  \n",
       "3           Mercedes-Benz of Buckhead    4.7         915   $62,000  \n",
       "4            Mercedes-Benz of Orlando    4.7         658   $34,881  \n",
       "5            Mercedes-Benz of Hanover    4.6         363   $47,514  \n",
       "6           Mercedes-Benz of Westwood    4.6         422   $35,016  \n",
       "7              Mercedes-Benz of Plano    4.4       1,033   $61,077  \n",
       "8           Mercedes-Benz of Westwood    4.6         422   $46,213  \n",
       "9                Euro Motorcars Devon    4.6         297   $49,998  \n",
       "10            Mercedes-Benz of Nanuet    4.9         233   $49,998  \n",
       "11         Mercedes-Benz of Nashville    4.7         808   $39,998  \n",
       "12                 Euro Motorcars Inc    4.6         560   $47,881  \n",
       "13           Mercedes-Benz of Ontario    4.9       1,906   $65,988  \n",
       "14           Mercedes-Benz of Hanover    4.6         363   $39,312  \n",
       "15  Mercedes-Benz of North Scottsdale    4.9       1,074   $33,988  \n",
       "16     Mercedes-Benz Of Daytona Beach    4.9       1,708   $68,989  \n",
       "17        Mercedes-Benz of Pleasanton    2.5          50   $32,525  \n",
       "18     Mercedes-Benz of Laguna Niguel    4.8       1,515   $72,188  \n",
       "19             Mercedes-Benz of Plano    4.4       1,033   $34,000  "
      ]
     },
     "execution_count": 31,
     "metadata": {},
     "output_type": "execute_result"
    }
   ],
   "source": [
    "# dataframe updated\n",
    "car_dealer"
   ]
  },
  {
   "cell_type": "markdown",
   "metadata": {},
   "source": [
    "### Output in Excel"
   ]
  },
  {
   "cell_type": "code",
   "execution_count": 32,
   "metadata": {},
   "outputs": [],
   "source": [
    "car_dealer.to_excel('car_dealer_single_page.xlsx', index=False)"
   ]
  },
  {
   "cell_type": "markdown",
   "metadata": {},
   "source": [
    "### Part 2 - Pagination "
   ]
  },
  {
   "cell_type": "code",
   "execution_count": 33,
   "metadata": {},
   "outputs": [],
   "source": [
    "name = []\n",
    "mileage = []\n",
    "dealer_name = []\n",
    "rating = []\n",
    "review_count = []\n",
    "price = []\n",
    "\n",
    "for i in range (1,11):\n",
    "    \n",
    "    # website in variable\n",
    "    website = 'https://www.cars.com/shopping/results/?page='+ str(i) +'&page_size=20&dealer_id=&list_price_max=&list_price_min=&makes[]=mercedes_benz&maximum_distance=20&mileage_max=&sort=best_match_desc&stock_type=cpo&year_max=&year_min=&zip=' \n",
    "    \n",
    "    # request to website\n",
    "    response = requests.get(website)\n",
    "    \n",
    "    # soup object\n",
    "    soup = BeautifulSoup(response.content, 'html.parser')\n",
    "    \n",
    "    # results\n",
    "    results = soup.find_all('div', {'class' : 'vehicle-card'})\n",
    "    \n",
    "    # loop through results\n",
    "    for result in results:\n",
    "    \n",
    "        # name\n",
    "        try:\n",
    "            name.append(result.find('h2').get_text()) \n",
    "        except:\n",
    "            name.append('n/a')\n",
    "\n",
    "        # mileage\n",
    "        try:\n",
    "            mileage.append(result.find('div', {'class':'mileage'}).get_text())\n",
    "        except:\n",
    "            mileage.append('n/a')\n",
    "\n",
    "        # dealer_name\n",
    "        try:\n",
    "            dealer_name.append(result.find('div', {'class':'dealer-name'}).get_text().strip())\n",
    "        except:\n",
    "            dealer_name.append('n/a')\n",
    "\n",
    "        # rating\n",
    "        try:\n",
    "            rating.append(result.find('span', {'class':'sds-rating__count'}).get_text())\n",
    "        except:\n",
    "            rating.append('n/a')\n",
    "\n",
    "        # review_count\n",
    "        try:\n",
    "            review_count.append(result.find('span', {'class':'sds-rating__link'}).get_text())\n",
    "        except:\n",
    "            review_count.append('n/a')\n",
    "\n",
    "        #price \n",
    "        try:\n",
    "            price.append(result.find('span', {'class':'primary-price'}).get_text())\n",
    "        except:\n",
    "            price.append('n/a')"
   ]
  },
  {
   "cell_type": "code",
   "execution_count": 34,
   "metadata": {},
   "outputs": [],
   "source": [
    "# dictionary\n",
    "car_dealer = pd.DataFrame({'Name': name, 'Mileage':mileage, 'Dealer Name':dealer_name,\n",
    "                                'Rating': rating, 'Review Count': review_count, 'Price': price})"
   ]
  },
  {
   "cell_type": "code",
   "execution_count": 35,
   "metadata": {},
   "outputs": [
    {
     "data": {
      "text/html": [
       "<div>\n",
       "<style scoped>\n",
       "    .dataframe tbody tr th:only-of-type {\n",
       "        vertical-align: middle;\n",
       "    }\n",
       "\n",
       "    .dataframe tbody tr th {\n",
       "        vertical-align: top;\n",
       "    }\n",
       "\n",
       "    .dataframe thead th {\n",
       "        text-align: right;\n",
       "    }\n",
       "</style>\n",
       "<table border=\"1\" class=\"dataframe\">\n",
       "  <thead>\n",
       "    <tr style=\"text-align: right;\">\n",
       "      <th></th>\n",
       "      <th>Name</th>\n",
       "      <th>Mileage</th>\n",
       "      <th>Dealer Name</th>\n",
       "      <th>Rating</th>\n",
       "      <th>Review Count</th>\n",
       "      <th>Price</th>\n",
       "    </tr>\n",
       "  </thead>\n",
       "  <tbody>\n",
       "    <tr>\n",
       "      <th>0</th>\n",
       "      <td>2019 Mercedes-Benz GLC 300 Base</td>\n",
       "      <td>13,009 mi.</td>\n",
       "      <td>Fletcher Jones Motorcars</td>\n",
       "      <td>4.8</td>\n",
       "      <td>(4,990 reviews)</td>\n",
       "      <td>$39,891</td>\n",
       "    </tr>\n",
       "    <tr>\n",
       "      <th>1</th>\n",
       "      <td>2018 Mercedes-Benz GLE 350 Base</td>\n",
       "      <td>23,167 mi.</td>\n",
       "      <td>Mercedes-Benz of Plano</td>\n",
       "      <td>4.4</td>\n",
       "      <td>(1,033 reviews)</td>\n",
       "      <td>$47,000</td>\n",
       "    </tr>\n",
       "    <tr>\n",
       "      <th>2</th>\n",
       "      <td>2019 Mercedes-Benz C-Class C 300</td>\n",
       "      <td>11,408 mi.</td>\n",
       "      <td>Mercedes-Benz of Walnut Creek</td>\n",
       "      <td>4.6</td>\n",
       "      <td>(813 reviews)</td>\n",
       "      <td>$35,588</td>\n",
       "    </tr>\n",
       "    <tr>\n",
       "      <th>3</th>\n",
       "      <td>2019 Mercedes-Benz GLE 400 Base 4MATIC</td>\n",
       "      <td>36,160 mi.</td>\n",
       "      <td>Mercedes-Benz of Arcadia</td>\n",
       "      <td>4.8</td>\n",
       "      <td>(1,095 reviews)</td>\n",
       "      <td>$48,888</td>\n",
       "    </tr>\n",
       "    <tr>\n",
       "      <th>4</th>\n",
       "      <td>2018 Mercedes-Benz E-Class E 400</td>\n",
       "      <td>12,586 mi.</td>\n",
       "      <td>Mercedes-Benz of Wesley Chapel</td>\n",
       "      <td>4.5</td>\n",
       "      <td>(415 reviews)</td>\n",
       "      <td>$66,995</td>\n",
       "    </tr>\n",
       "    <tr>\n",
       "      <th>...</th>\n",
       "      <td>...</td>\n",
       "      <td>...</td>\n",
       "      <td>...</td>\n",
       "      <td>...</td>\n",
       "      <td>...</td>\n",
       "      <td>...</td>\n",
       "    </tr>\n",
       "    <tr>\n",
       "      <th>195</th>\n",
       "      <td>2020 Mercedes-Benz GLE 350 Base 4MATIC</td>\n",
       "      <td>21,348 mi.</td>\n",
       "      <td>Mercedes-Benz Of Daytona Beach</td>\n",
       "      <td>4.9</td>\n",
       "      <td>(1,708 reviews)</td>\n",
       "      <td>$68,989</td>\n",
       "    </tr>\n",
       "    <tr>\n",
       "      <th>196</th>\n",
       "      <td>2019 Mercedes-Benz GLA 250 Base 4MATIC</td>\n",
       "      <td>30,319 mi.</td>\n",
       "      <td>Mercedes-Benz of Pleasanton</td>\n",
       "      <td>2.5</td>\n",
       "      <td>(50 reviews)</td>\n",
       "      <td>$32,525</td>\n",
       "    </tr>\n",
       "    <tr>\n",
       "      <th>197</th>\n",
       "      <td>2019 Mercedes-Benz AMG GLE 43 Base 4MATIC</td>\n",
       "      <td>29,193 mi.</td>\n",
       "      <td>Mercedes-Benz of Laguna Niguel</td>\n",
       "      <td>4.8</td>\n",
       "      <td>(1,515 reviews)</td>\n",
       "      <td>$72,188</td>\n",
       "    </tr>\n",
       "    <tr>\n",
       "      <th>198</th>\n",
       "      <td>2020 Mercedes-Benz GLA 250 Base</td>\n",
       "      <td>18,586 mi.</td>\n",
       "      <td>Mercedes-Benz of Plano</td>\n",
       "      <td>4.4</td>\n",
       "      <td>(1,033 reviews)</td>\n",
       "      <td>$34,000</td>\n",
       "    </tr>\n",
       "    <tr>\n",
       "      <th>199</th>\n",
       "      <td>2019 Mercedes-Benz GLC 350e Base 4MATIC</td>\n",
       "      <td>7,253 mi.</td>\n",
       "      <td>Mercedes-Benz of Edison</td>\n",
       "      <td>4.9</td>\n",
       "      <td>(2,236 reviews)</td>\n",
       "      <td>$46,900</td>\n",
       "    </tr>\n",
       "  </tbody>\n",
       "</table>\n",
       "<p>200 rows × 6 columns</p>\n",
       "</div>"
      ],
      "text/plain": [
       "                                          Name     Mileage  \\\n",
       "0              2019 Mercedes-Benz GLC 300 Base  13,009 mi.   \n",
       "1              2018 Mercedes-Benz GLE 350 Base  23,167 mi.   \n",
       "2             2019 Mercedes-Benz C-Class C 300  11,408 mi.   \n",
       "3       2019 Mercedes-Benz GLE 400 Base 4MATIC  36,160 mi.   \n",
       "4             2018 Mercedes-Benz E-Class E 400  12,586 mi.   \n",
       "..                                         ...         ...   \n",
       "195     2020 Mercedes-Benz GLE 350 Base 4MATIC  21,348 mi.   \n",
       "196     2019 Mercedes-Benz GLA 250 Base 4MATIC  30,319 mi.   \n",
       "197  2019 Mercedes-Benz AMG GLE 43 Base 4MATIC  29,193 mi.   \n",
       "198            2020 Mercedes-Benz GLA 250 Base  18,586 mi.   \n",
       "199    2019 Mercedes-Benz GLC 350e Base 4MATIC   7,253 mi.   \n",
       "\n",
       "                        Dealer Name Rating     Review Count    Price  \n",
       "0          Fletcher Jones Motorcars    4.8  (4,990 reviews)  $39,891  \n",
       "1            Mercedes-Benz of Plano    4.4  (1,033 reviews)  $47,000  \n",
       "2     Mercedes-Benz of Walnut Creek    4.6    (813 reviews)  $35,588  \n",
       "3          Mercedes-Benz of Arcadia    4.8  (1,095 reviews)  $48,888  \n",
       "4    Mercedes-Benz of Wesley Chapel    4.5    (415 reviews)  $66,995  \n",
       "..                              ...    ...              ...      ...  \n",
       "195  Mercedes-Benz Of Daytona Beach    4.9  (1,708 reviews)  $68,989  \n",
       "196     Mercedes-Benz of Pleasanton    2.5     (50 reviews)  $32,525  \n",
       "197  Mercedes-Benz of Laguna Niguel    4.8  (1,515 reviews)  $72,188  \n",
       "198          Mercedes-Benz of Plano    4.4  (1,033 reviews)  $34,000  \n",
       "199         Mercedes-Benz of Edison    4.9  (2,236 reviews)  $46,900  \n",
       "\n",
       "[200 rows x 6 columns]"
      ]
     },
     "execution_count": 35,
     "metadata": {},
     "output_type": "execute_result"
    }
   ],
   "source": [
    "car_dealer"
   ]
  },
  {
   "cell_type": "code",
   "execution_count": 36,
   "metadata": {},
   "outputs": [],
   "source": [
    "car_dealer['Review Count'] = car_dealer['Review Count'].apply(lambda x: x.strip('reviews)').strip('('))"
   ]
  },
  {
   "cell_type": "code",
   "execution_count": 37,
   "metadata": {},
   "outputs": [
    {
     "data": {
      "text/html": [
       "<div>\n",
       "<style scoped>\n",
       "    .dataframe tbody tr th:only-of-type {\n",
       "        vertical-align: middle;\n",
       "    }\n",
       "\n",
       "    .dataframe tbody tr th {\n",
       "        vertical-align: top;\n",
       "    }\n",
       "\n",
       "    .dataframe thead th {\n",
       "        text-align: right;\n",
       "    }\n",
       "</style>\n",
       "<table border=\"1\" class=\"dataframe\">\n",
       "  <thead>\n",
       "    <tr style=\"text-align: right;\">\n",
       "      <th></th>\n",
       "      <th>Name</th>\n",
       "      <th>Mileage</th>\n",
       "      <th>Dealer Name</th>\n",
       "      <th>Rating</th>\n",
       "      <th>Review Count</th>\n",
       "      <th>Price</th>\n",
       "    </tr>\n",
       "  </thead>\n",
       "  <tbody>\n",
       "    <tr>\n",
       "      <th>0</th>\n",
       "      <td>2019 Mercedes-Benz GLC 300 Base</td>\n",
       "      <td>13,009 mi.</td>\n",
       "      <td>Fletcher Jones Motorcars</td>\n",
       "      <td>4.8</td>\n",
       "      <td>4,990</td>\n",
       "      <td>$39,891</td>\n",
       "    </tr>\n",
       "    <tr>\n",
       "      <th>1</th>\n",
       "      <td>2018 Mercedes-Benz GLE 350 Base</td>\n",
       "      <td>23,167 mi.</td>\n",
       "      <td>Mercedes-Benz of Plano</td>\n",
       "      <td>4.4</td>\n",
       "      <td>1,033</td>\n",
       "      <td>$47,000</td>\n",
       "    </tr>\n",
       "    <tr>\n",
       "      <th>2</th>\n",
       "      <td>2019 Mercedes-Benz C-Class C 300</td>\n",
       "      <td>11,408 mi.</td>\n",
       "      <td>Mercedes-Benz of Walnut Creek</td>\n",
       "      <td>4.6</td>\n",
       "      <td>813</td>\n",
       "      <td>$35,588</td>\n",
       "    </tr>\n",
       "    <tr>\n",
       "      <th>3</th>\n",
       "      <td>2019 Mercedes-Benz GLE 400 Base 4MATIC</td>\n",
       "      <td>36,160 mi.</td>\n",
       "      <td>Mercedes-Benz of Arcadia</td>\n",
       "      <td>4.8</td>\n",
       "      <td>1,095</td>\n",
       "      <td>$48,888</td>\n",
       "    </tr>\n",
       "    <tr>\n",
       "      <th>4</th>\n",
       "      <td>2018 Mercedes-Benz E-Class E 400</td>\n",
       "      <td>12,586 mi.</td>\n",
       "      <td>Mercedes-Benz of Wesley Chapel</td>\n",
       "      <td>4.5</td>\n",
       "      <td>415</td>\n",
       "      <td>$66,995</td>\n",
       "    </tr>\n",
       "    <tr>\n",
       "      <th>...</th>\n",
       "      <td>...</td>\n",
       "      <td>...</td>\n",
       "      <td>...</td>\n",
       "      <td>...</td>\n",
       "      <td>...</td>\n",
       "      <td>...</td>\n",
       "    </tr>\n",
       "    <tr>\n",
       "      <th>195</th>\n",
       "      <td>2020 Mercedes-Benz GLE 350 Base 4MATIC</td>\n",
       "      <td>21,348 mi.</td>\n",
       "      <td>Mercedes-Benz Of Daytona Beach</td>\n",
       "      <td>4.9</td>\n",
       "      <td>1,708</td>\n",
       "      <td>$68,989</td>\n",
       "    </tr>\n",
       "    <tr>\n",
       "      <th>196</th>\n",
       "      <td>2019 Mercedes-Benz GLA 250 Base 4MATIC</td>\n",
       "      <td>30,319 mi.</td>\n",
       "      <td>Mercedes-Benz of Pleasanton</td>\n",
       "      <td>2.5</td>\n",
       "      <td>50</td>\n",
       "      <td>$32,525</td>\n",
       "    </tr>\n",
       "    <tr>\n",
       "      <th>197</th>\n",
       "      <td>2019 Mercedes-Benz AMG GLE 43 Base 4MATIC</td>\n",
       "      <td>29,193 mi.</td>\n",
       "      <td>Mercedes-Benz of Laguna Niguel</td>\n",
       "      <td>4.8</td>\n",
       "      <td>1,515</td>\n",
       "      <td>$72,188</td>\n",
       "    </tr>\n",
       "    <tr>\n",
       "      <th>198</th>\n",
       "      <td>2020 Mercedes-Benz GLA 250 Base</td>\n",
       "      <td>18,586 mi.</td>\n",
       "      <td>Mercedes-Benz of Plano</td>\n",
       "      <td>4.4</td>\n",
       "      <td>1,033</td>\n",
       "      <td>$34,000</td>\n",
       "    </tr>\n",
       "    <tr>\n",
       "      <th>199</th>\n",
       "      <td>2019 Mercedes-Benz GLC 350e Base 4MATIC</td>\n",
       "      <td>7,253 mi.</td>\n",
       "      <td>Mercedes-Benz of Edison</td>\n",
       "      <td>4.9</td>\n",
       "      <td>2,236</td>\n",
       "      <td>$46,900</td>\n",
       "    </tr>\n",
       "  </tbody>\n",
       "</table>\n",
       "<p>200 rows × 6 columns</p>\n",
       "</div>"
      ],
      "text/plain": [
       "                                          Name     Mileage  \\\n",
       "0              2019 Mercedes-Benz GLC 300 Base  13,009 mi.   \n",
       "1              2018 Mercedes-Benz GLE 350 Base  23,167 mi.   \n",
       "2             2019 Mercedes-Benz C-Class C 300  11,408 mi.   \n",
       "3       2019 Mercedes-Benz GLE 400 Base 4MATIC  36,160 mi.   \n",
       "4             2018 Mercedes-Benz E-Class E 400  12,586 mi.   \n",
       "..                                         ...         ...   \n",
       "195     2020 Mercedes-Benz GLE 350 Base 4MATIC  21,348 mi.   \n",
       "196     2019 Mercedes-Benz GLA 250 Base 4MATIC  30,319 mi.   \n",
       "197  2019 Mercedes-Benz AMG GLE 43 Base 4MATIC  29,193 mi.   \n",
       "198            2020 Mercedes-Benz GLA 250 Base  18,586 mi.   \n",
       "199    2019 Mercedes-Benz GLC 350e Base 4MATIC   7,253 mi.   \n",
       "\n",
       "                        Dealer Name Rating Review Count    Price  \n",
       "0          Fletcher Jones Motorcars    4.8       4,990   $39,891  \n",
       "1            Mercedes-Benz of Plano    4.4       1,033   $47,000  \n",
       "2     Mercedes-Benz of Walnut Creek    4.6         813   $35,588  \n",
       "3          Mercedes-Benz of Arcadia    4.8       1,095   $48,888  \n",
       "4    Mercedes-Benz of Wesley Chapel    4.5         415   $66,995  \n",
       "..                              ...    ...          ...      ...  \n",
       "195  Mercedes-Benz Of Daytona Beach    4.9       1,708   $68,989  \n",
       "196     Mercedes-Benz of Pleasanton    2.5          50   $32,525  \n",
       "197  Mercedes-Benz of Laguna Niguel    4.8       1,515   $72,188  \n",
       "198          Mercedes-Benz of Plano    4.4       1,033   $34,000  \n",
       "199         Mercedes-Benz of Edison    4.9       2,236   $46,900  \n",
       "\n",
       "[200 rows x 6 columns]"
      ]
     },
     "execution_count": 37,
     "metadata": {},
     "output_type": "execute_result"
    }
   ],
   "source": [
    "car_dealer"
   ]
  }
 ],
 "metadata": {
  "kernelspec": {
   "display_name": "Python 3",
   "language": "python",
   "name": "python3"
  },
  "language_info": {
   "codemirror_mode": {
    "name": "ipython",
    "version": 3
   },
   "file_extension": ".py",
   "mimetype": "text/x-python",
   "name": "python",
   "nbconvert_exporter": "python",
   "pygments_lexer": "ipython3",
   "version": "3.8.5"
  }
 },
 "nbformat": 4,
 "nbformat_minor": 4
}
